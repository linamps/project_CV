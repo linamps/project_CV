{
 "cells": [
  {
   "cell_type": "code",
   "execution_count": 1,
   "metadata": {},
   "outputs": [
    {
     "name": "stderr",
     "output_type": "stream",
     "text": [
      "c:\\Users\\Francesco Corda\\Documents\\Aline\\Lib\\site-packages\\keras\\src\\saving\\saving_lib.py:415: UserWarning: Skipping variable loading for optimizer 'rmsprop', because it has 162 variables whereas the saved optimizer has 322 variables. \n",
      "  saveable.load_own_variables(weights_store.get(inner_path))\n"
     ]
    },
    {
     "name": "stdout",
     "output_type": "stream",
     "text": [
      "\u001b[1m1/1\u001b[0m \u001b[32m━━━━━━━━━━━━━━━━━━━━\u001b[0m\u001b[37m\u001b[0m \u001b[1m1s\u001b[0m 1s/step\n",
      "Predicted class: aluminum_soda_cans\n"
     ]
    }
   ],
   "source": [
    "import numpy as np\n",
    "from tensorflow.keras.preprocessing.image import load_img, img_to_array\n",
    "from tensorflow.keras.models import load_model\n",
    "\n",
    "# Load your trained Keras model\n",
    "model = load_model(\"C:\\\\Users\\\\Francesco Corda\\\\Documents\\\\GitHub\\\\Project_CV\\\\waste_classification_model.keras\")\n",
    "\n",
    "# Define your categories (replace with your actual categories)\n",
    "categories = [\n",
    "    'aerosol_cans', 'aluminum_food_cans', 'aluminum_soda_cans', 'cardboard_boxes', \n",
    "    'cardboard_packaging', 'clothing', 'coffee_grounds', 'disposable_plastic_cutlery', \n",
    "    'eggshells', 'food_waste', 'glass_beverage_bottles', 'glass_cosmetic_containers', \n",
    "    'glass_food_jars', 'magazines', 'newspaper', 'office_paper', 'paper_cups', \n",
    "    'plastic_cup_lids', 'plastic_detergent_bottles', 'plastic_food_containers', \n",
    "    'plastic_shopping_bags', 'plastic_soda_bottles', 'plastic_straws', 'plastic_trash_bags',\n",
    "    'plastic_water_bottles', 'shoes', 'steel_food_cans', 'styrofoam_cups', \n",
    "    'styrofoam_food_containers', 'tea_bags'\n",
    "    # add all other categories\n",
    "]\n",
    "\n",
    "# Function to predict class for a single image\n",
    "def predict_single_image(image_path):\n",
    "    # Load the image and resize to match your model's expected sizing\n",
    "    img = load_img(image_path, target_size=(128, 128))\n",
    "    \n",
    "    # Convert image to array and preprocess for prediction\n",
    "    img_array = img_to_array(img) / 255.0\n",
    "    img_array = np.expand_dims(img_array, axis=0)  # Shape (1, 128, 128, 3)\n",
    "    \n",
    "    # Predict with the model\n",
    "    prediction = model.predict(img_array)\n",
    "    \n",
    "    # Get the predicted class index\n",
    "    predicted_index = np.argmax(prediction)\n",
    "    \n",
    "    # Map index to category\n",
    "    predicted_class = categories[predicted_index]\n",
    "    \n",
    "    return predicted_class\n",
    "\n",
    "# Example usage:\n",
    "image_path = \"C:\\\\Users\\\\Francesco Corda\\\\Documents\\\\GitHub\\\\Project_CV\\\\images\\\\images\\\\aluminum_food_cans\\\\real_world\\\\Image_2.png\"\n",
    "predicted_class = predict_single_image(image_path)\n",
    "print(f\"Predicted class: {predicted_class}\")\n"
   ]
  },
  {
   "cell_type": "code",
   "execution_count": null,
   "metadata": {},
   "outputs": [],
   "source": []
  }
 ],
 "metadata": {
  "kernelspec": {
   "display_name": "base",
   "language": "python",
   "name": "python3"
  },
  "language_info": {
   "codemirror_mode": {
    "name": "ipython",
    "version": 3
   },
   "file_extension": ".py",
   "mimetype": "text/x-python",
   "name": "python",
   "nbconvert_exporter": "python",
   "pygments_lexer": "ipython3",
   "version": "3.11.5"
  }
 },
 "nbformat": 4,
 "nbformat_minor": 2
}
